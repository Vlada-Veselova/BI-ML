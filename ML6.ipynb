{
 "cells": [
  {
   "cell_type": "markdown",
   "metadata": {},
   "source": [
    "# Нейронные сети\n",
    "__Суммарное количество баллов: 10__\n",
    "\n",
    "В этом домашнем задании можно использовать готовые классы библиотек PyTorch, Keras, TensorFlow."
   ]
  },
  {
   "cell_type": "markdown",
   "metadata": {},
   "source": [
    "### Задание 1 (4 балла)\n",
    "\n",
    "Создайте сеть из трех сверточных слоев по 8 сверток 3х3 и двух полносвязных слоев по 64 нейрона. \n",
    "\n",
    "Обучите сеть на датасете mnist с тремя разными функциями активации в слоях (sigmoid, tanh, ReLU)."
   ]
  },
  {
   "cell_type": "code",
   "execution_count": 2,
   "metadata": {},
   "outputs": [],
   "source": [
    "import torch\n",
    "import pandas as pd\n",
    "import numpy as np\n",
    "import random\n",
    "from sklearn.model_selection import train_test_split\n",
    "import torchvision.datasets"
   ]
  },
  {
   "cell_type": "code",
   "execution_count": 3,
   "metadata": {},
   "outputs": [],
   "source": [
    "df = pd.read_csv('mnist.csv')\n",
    "y = df['label']\n",
    "X = df.drop('label', axis=1)\n",
    "X_train, X_test, y_train, y_test = train_test_split(X, y)\n",
    "X_train = torch.Tensor(X_train.values).reshape((X_train.shape[0], 28, 28))\n",
    "X_test = torch.Tensor(X_test.values).reshape((X_test.shape[0], 28, 28))\n",
    "y_train = torch.LongTensor(y_train.values)\n",
    "y_test = torch.LongTensor(y_test.values)"
   ]
  },
  {
   "cell_type": "code",
   "execution_count": 4,
   "metadata": {},
   "outputs": [],
   "source": [
    "X_train = X_train.unsqueeze(1).float()\n",
    "X_test = X_test.unsqueeze(1).float()"
   ]
  },
  {
   "cell_type": "markdown",
   "metadata": {},
   "source": [
    "## Sigmoid"
   ]
  },
  {
   "cell_type": "code",
   "execution_count": 116,
   "metadata": {},
   "outputs": [],
   "source": [
    "class nnet_sigmoid(torch.nn.Module):\n",
    "    def __init__(self):\n",
    "        super(nnet_sigmoid, self).__init__()\n",
    "        self.conv1 = torch.nn.Conv2d(in_channels=1, out_channels=8, kernel_size=3, padding=1)\n",
    "        self.act1 = torch.nn.Sigmoid()\n",
    "        self.conv2 = torch.nn.Conv2d(in_channels=8, out_channels=8, kernel_size=3, padding=1)\n",
    "        self.act2 = torch.nn.Sigmoid()\n",
    "        self.conv3 = torch.nn.Conv2d(in_channels=8, out_channels=8, kernel_size=3, padding=1)\n",
    "        self.act3 = torch.nn.Sigmoid()\n",
    "        self.fc1 = torch.nn.Linear(28*28*8, 64)\n",
    "        self.act4 = torch.nn.Sigmoid()\n",
    "        self.fc2 = torch.nn.Linear(64, 10)\n",
    "    def forward(self, x):\n",
    "        x = self.conv1(x)\n",
    "        x = self.act1(x)\n",
    "        x = self.conv2(x)\n",
    "        x = self.act2(x)\n",
    "        x = self.conv3(x)\n",
    "        x = self.act3(x)\n",
    "        x = x.view(x.shape[0], -1)\n",
    "        x = self.fc1(x)\n",
    "        x = self.act4(x)\n",
    "        x = self.fc2(x)\n",
    "        return x"
   ]
  },
  {
   "cell_type": "code",
   "execution_count": 118,
   "metadata": {},
   "outputs": [
    {
     "name": "stdout",
     "output_type": "stream",
     "text": [
      "0 : tensor(0.1028)\n",
      "1 : tensor(0.1060)\n",
      "2 : tensor(0.6772)\n",
      "3 : tensor(0.8252)\n",
      "4 : tensor(0.8632)\n",
      "5 : tensor(0.8852)\n",
      "6 : tensor(0.9012)\n",
      "7 : tensor(0.9044)\n",
      "8 : tensor(0.9164)\n",
      "9 : tensor(0.9180)\n"
     ]
    }
   ],
   "source": [
    "nn = nnet_sigmoid()\n",
    "loss = torch.nn.CrossEntropyLoss()\n",
    "opt = torch.optim.Adam(nn.parameters(), lr=1.0e-3)\n",
    "for epoch in range(10):\n",
    "    indxies = np.random.permutation(7500)\n",
    "    batch_size = 50\n",
    "    n_bathes = 7500//batch_size\n",
    "    for i in range(n_bathes):\n",
    "        interval = indxies[batch_size * i : batch_size * (i + 1)]\n",
    "        b = X_train[interval]\n",
    "        opt.zero_grad()\n",
    "        preds = nn.forward(b)\n",
    "        loss_value = loss(preds, y_train[interval])\n",
    "        loss_value.backward()\n",
    "        opt.step()\n",
    "    test_preds = nn.forward(X_test)\n",
    "    accuracy = (test_preds.argmax(dim=1) == y_test).float().mean().data.cpu()\n",
    "    print(epoch, ':', accuracy)"
   ]
  },
  {
   "cell_type": "markdown",
   "metadata": {},
   "source": [
    "## Tanh"
   ]
  },
  {
   "cell_type": "code",
   "execution_count": 58,
   "metadata": {},
   "outputs": [],
   "source": [
    "class nnet_tanh(torch.nn.Module):\n",
    "    def __init__(self):\n",
    "        super(nnet_tanh, self).__init__()\n",
    "        self.conv1 = torch.nn.Conv2d(in_channels=1, out_channels=8, kernel_size=3, padding=1)\n",
    "        self.act1 = torch.nn.Tanh()\n",
    "        self.conv2 = torch.nn.Conv2d(in_channels=8, out_channels=8, kernel_size=3, padding=1)\n",
    "        self.act2 = torch.nn.Tanh()\n",
    "        self.conv3 = torch.nn.Conv2d(in_channels=8, out_channels=8, kernel_size=3, padding=1)\n",
    "        self.act3 = torch.nn.Tanh()\n",
    "        self.fc1 = torch.nn.Linear(28*28*8, 64)\n",
    "        self.act4 = torch.nn.Tanh()\n",
    "        self.fc2 = torch.nn.Linear(64, 10)\n",
    "    def forward(self, x):\n",
    "        x = self.conv1(x)\n",
    "        x = self.act1(x)\n",
    "        x = self.conv2(x)\n",
    "        x = self.act2(x)\n",
    "        x = self.conv3(x)\n",
    "        x = self.act3(x)\n",
    "        x = x.view(x.shape[0], -1)\n",
    "        x = self.fc1(x)\n",
    "        x = self.act4(x)\n",
    "        x = self.fc2(x)\n",
    "        return x"
   ]
  },
  {
   "cell_type": "code",
   "execution_count": 73,
   "metadata": {},
   "outputs": [
    {
     "name": "stdout",
     "output_type": "stream",
     "text": [
      "0 : tensor(0.9228)\n",
      "1 : tensor(0.9500)\n",
      "2 : tensor(0.9532)\n",
      "3 : tensor(0.9680)\n",
      "4 : tensor(0.9700)\n",
      "5 : tensor(0.9740)\n",
      "6 : tensor(0.9744)\n",
      "7 : tensor(0.9744)\n",
      "8 : tensor(0.9748)\n",
      "9 : tensor(0.9752)\n",
      "10 : tensor(0.9756)\n",
      "11 : tensor(0.9776)\n",
      "12 : tensor(0.9764)\n",
      "13 : tensor(0.9780)\n",
      "14 : tensor(0.9772)\n"
     ]
    }
   ],
   "source": [
    "nn = nnet_tanh()\n",
    "loss = torch.nn.CrossEntropyLoss()\n",
    "opt = torch.optim.Adam(nn.parameters(), lr=1.0e-3)\n",
    "for epoch in range(15):\n",
    "    indxies = np.random.permutation(7500)\n",
    "    batch_size = 50\n",
    "    n_bathes = 7500//batch_size\n",
    "    for i in range(n_bathes):\n",
    "        interval = indxies[batch_size * i : batch_size * (i + 1)]\n",
    "        b = X_train[interval]\n",
    "        opt.zero_grad()\n",
    "        preds = nn.forward(b)\n",
    "        loss_value = loss(preds, y_train[interval])\n",
    "        loss_value.backward()\n",
    "        opt.step()\n",
    "    test_preds = nn.forward(X_test)\n",
    "    accuracy = (test_preds.argmax(dim=1) == y_test).float().mean().data.cpu()\n",
    "    print(epoch, ':', accuracy)"
   ]
  },
  {
   "cell_type": "markdown",
   "metadata": {},
   "source": [
    "## ReLU"
   ]
  },
  {
   "cell_type": "code",
   "execution_count": 50,
   "metadata": {},
   "outputs": [],
   "source": [
    "class nnet_relu(torch.nn.Module):\n",
    "    def __init__(self):\n",
    "        super(nnet_relu, self).__init__()\n",
    "        self.conv1 = torch.nn.Conv2d(in_channels=1, out_channels=8, kernel_size=3, padding=1)\n",
    "        self.act1 = torch.nn.ReLU()\n",
    "        self.conv2 = torch.nn.Conv2d(in_channels=8, out_channels=8, kernel_size=3, padding=1)\n",
    "        self.act2 = torch.nn.ReLU()\n",
    "        self.conv3 = torch.nn.Conv2d(in_channels=8, out_channels=1, kernel_size=3, padding=1)\n",
    "        self.act3 = torch.nn.ReLU()\n",
    "        self.fc1 = torch.nn.Linear(28*28*1, 64)\n",
    "        self.act4 = torch.nn.ReLU()\n",
    "        self.fc2 = torch.nn.Linear(64, 10)\n",
    "    def forward(self, x):\n",
    "        x = self.conv1(x)\n",
    "        x = self.act1(x)\n",
    "        x = self.conv2(x)\n",
    "        x = self.act2(x)\n",
    "        x = self.conv3(x)\n",
    "        x = self.act3(x)\n",
    "        x = x.view(x.shape[0], -1)\n",
    "        x = self.fc1(x)\n",
    "        x = self.act4(x)\n",
    "        x = self.fc2(x)\n",
    "        return x"
   ]
  },
  {
   "cell_type": "code",
   "execution_count": 74,
   "metadata": {},
   "outputs": [
    {
     "name": "stdout",
     "output_type": "stream",
     "text": [
      "0 : tensor(0.9108)\n",
      "1 : tensor(0.9272)\n",
      "2 : tensor(0.9284)\n",
      "3 : tensor(0.9444)\n",
      "4 : tensor(0.9560)\n",
      "5 : tensor(0.9396)\n",
      "6 : tensor(0.9512)\n",
      "7 : tensor(0.9560)\n",
      "8 : tensor(0.9600)\n",
      "9 : tensor(0.9512)\n"
     ]
    }
   ],
   "source": [
    "nn = nnet_relu()\n",
    "loss = torch.nn.CrossEntropyLoss()\n",
    "opt = torch.optim.Adam(nn.parameters(), lr=1.0e-3)\n",
    "for epoch in range(10):\n",
    "    indxies = np.random.permutation(7500)\n",
    "    batch_size = 50\n",
    "    n_bathes = 7500//batch_size\n",
    "    for i in range(n_bathes):\n",
    "        interval = indxies[batch_size * i : batch_size * (i + 1)]\n",
    "        b = X_train[interval]\n",
    "        opt.zero_grad()\n",
    "        preds = nn.forward(b)\n",
    "        loss_value = loss(preds, y_train[interval])\n",
    "        loss_value.backward()\n",
    "        opt.step()\n",
    "    test_preds = nn.forward(X_test)\n",
    "    accuracy = (test_preds.argmax(dim=1) == y_test).float().mean().data.cpu()\n",
    "    print(epoch, ':', accuracy)"
   ]
  },
  {
   "cell_type": "markdown",
   "metadata": {},
   "source": [
    "### Задание 2 (6 баллов)\n",
    "\n",
    "Достигните точности 87% на test датасете notMNIST.\n",
    "\n",
    "Архитектура сети может быть любая. Можно использовать Data Augmentation."
   ]
  },
  {
   "cell_type": "code",
   "execution_count": 3,
   "metadata": {},
   "outputs": [],
   "source": [
    "class nnet(torch.nn.Module):\n",
    "    def __init__(self):\n",
    "        super(nnet, self).__init__()\n",
    "        self.conv1 = torch.nn.Conv2d(in_channels=3, out_channels=8, kernel_size=3, padding=1)\n",
    "        self.act1 = torch.nn.Tanh()\n",
    "        self.conv2 = torch.nn.Conv2d(in_channels=8, out_channels=8, kernel_size=3, padding=1)\n",
    "        self.act2 = torch.nn.Tanh()\n",
    "        self.conv3 = torch.nn.Conv2d(in_channels=8, out_channels=8, kernel_size=3, padding=1)\n",
    "        self.act3 = torch.nn.Tanh()\n",
    "        self.fc1 = torch.nn.Linear(28*28*8, 64)\n",
    "        self.act4 = torch.nn.Tanh()\n",
    "        self.fc2 = torch.nn.Linear(64, 10)\n",
    "    def forward(self, x):\n",
    "        x = self.conv1(x)\n",
    "        x = self.act1(x)\n",
    "        x = self.conv2(x)\n",
    "        x = self.act2(x)\n",
    "        x = self.conv3(x)\n",
    "        x = self.act3(x)\n",
    "        x = x.view(x.shape[0], -1)\n",
    "        x = self.fc1(x)\n",
    "        x = self.act4(x)\n",
    "        x = self.fc2(x)\n",
    "        return x"
   ]
  },
  {
   "cell_type": "code",
   "execution_count": 4,
   "metadata": {},
   "outputs": [],
   "source": [
    "def load_dataset():\n",
    "    data_path = 'notMNIST_small/'\n",
    "    train_dataset = torchvision.datasets.ImageFolder(\n",
    "        root=data_path,\n",
    "        transform=torchvision.transforms.ToTensor()\n",
    "    )\n",
    "    train_loader = torch.utils.data.DataLoader(\n",
    "        train_dataset,\n",
    "        batch_size=9362,\n",
    "        num_workers=0,\n",
    "        shuffle=True\n",
    "    )\n",
    "    return train_loader"
   ]
  },
  {
   "cell_type": "code",
   "execution_count": 8,
   "metadata": {},
   "outputs": [],
   "source": [
    "for n_batch, (feature, label) in enumerate(load_dataset()): \n",
    "    if n_batch == 0:\n",
    "        X_train = feature\n",
    "        y_train = label\n",
    "    else:\n",
    "        X_test = feature\n",
    "        y_test = label"
   ]
  },
  {
   "cell_type": "code",
   "execution_count": 9,
   "metadata": {},
   "outputs": [
    {
     "name": "stdout",
     "output_type": "stream",
     "text": [
      "0 : tensor(0.8873)\n",
      "1 : tensor(0.8928)\n",
      "2 : tensor(0.8986)\n",
      "3 : tensor(0.9044)\n",
      "4 : tensor(0.9035)\n",
      "5 : tensor(0.9038)\n",
      "6 : tensor(0.9054)\n",
      "7 : tensor(0.9049)\n",
      "8 : tensor(0.9075)\n",
      "9 : tensor(0.9106)\n",
      "10 : tensor(0.9111)\n",
      "11 : tensor(0.9105)\n",
      "12 : tensor(0.9116)\n",
      "13 : tensor(0.9101)\n",
      "14 : tensor(0.9093)\n",
      "15 : tensor(0.9084)\n",
      "16 : tensor(0.9100)\n",
      "17 : tensor(0.9076)\n",
      "18 : tensor(0.9108)\n",
      "19 : tensor(0.9112)\n"
     ]
    }
   ],
   "source": [
    "nn = nnet()\n",
    "loss = torch.nn.CrossEntropyLoss()\n",
    "opt = torch.optim.Adam(nn.parameters(), lr=1.0e-3)\n",
    "for epoch in range(20):\n",
    "    indxies = np.random.permutation(9362)\n",
    "    batch_size = 40\n",
    "    n_batches = 9362//batch_size\n",
    "    for i in range(n_batches):\n",
    "        interval = indxies[batch_size * i : batch_size * (i + 1)]\n",
    "        b = X_train[interval]\n",
    "        opt.zero_grad()\n",
    "        preds = nn.forward(b)\n",
    "        loss_value = loss(preds, y_train[interval])\n",
    "        loss_value.backward()\n",
    "        opt.step()\n",
    "    test_preds = nn.forward(X_test)\n",
    "    accuracy = (test_preds.argmax(dim=1) == y_test).float().mean().data.cpu()\n",
    "    print(epoch, ':', accuracy)"
   ]
  },
  {
   "cell_type": "code",
   "execution_count": null,
   "metadata": {},
   "outputs": [],
   "source": []
  }
 ],
 "metadata": {
  "kernelspec": {
   "display_name": "Python 3",
   "language": "python",
   "name": "python3"
  },
  "language_info": {
   "codemirror_mode": {
    "name": "ipython",
    "version": 3
   },
   "file_extension": ".py",
   "mimetype": "text/x-python",
   "name": "python",
   "nbconvert_exporter": "python",
   "pygments_lexer": "ipython3",
   "version": "3.7.3"
  }
 },
 "nbformat": 4,
 "nbformat_minor": 2
}
